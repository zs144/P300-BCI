{
 "cells": [
  {
   "cell_type": "markdown",
   "metadata": {},
   "source": [
    "# Build a CNN classifier for P300 speller\n",
    "\n",
    "<div style=\"text-align:justify; width: 97%\">\n",
    "Main reference: *CNN With Large Data Achieves True Zero-Training in Online P300 Brain-Computer Interface* by J. Lee et al. (2020)\n",
    "</div>"
   ]
  },
  {
   "cell_type": "code",
   "execution_count": 23,
   "metadata": {},
   "outputs": [
    {
     "name": "stdout",
     "output_type": "stream",
     "text": [
      "The autoreload extension is already loaded. To reload it, use:\n",
      "  %reload_ext autoreload\n"
     ]
    }
   ],
   "source": [
    "# import necessary packages\n",
    "## Python standard libraries\n",
    "import math\n",
    "import random\n",
    "import os\n",
    "\n",
    "## Packages for computation and modelling\n",
    "import numpy as np\n",
    "import pandas as pd\n",
    "import scipy.stats as stats\n",
    "from scipy.stats import norm\n",
    "import torch\n",
    "from torch.utils.data import DataLoader, TensorDataset\n",
    "from torchsummary import summary\n",
    "# from torcheeg.models import EEGNet\n",
    "import mne\n",
    "import pickle\n",
    "\n",
    "## Packages for visualization\n",
    "import matplotlib.pyplot as plt\n",
    "import seaborn as sns\n",
    "\n",
    "# Self-defined packages\n",
    "from swlda import SWLDA\n",
    "from eegnet_utils import *\n",
    "\n",
    "# Magic command to reload packages whenever we run any later cells\n",
    "%load_ext autoreload\n",
    "%autoreload 2"
   ]
  },
  {
   "cell_type": "code",
   "execution_count": 20,
   "metadata": {},
   "outputs": [
    {
     "name": "stdout",
     "output_type": "stream",
     "text": [
      "cpu\n"
     ]
    }
   ],
   "source": [
    "device = 'cuda:0' if torch.cuda.is_available() else 'cpu'\n",
    "print(device)"
   ]
  },
  {
   "cell_type": "markdown",
   "metadata": {},
   "source": [
    "## Step 1. Data Preprocessing"
   ]
  },
  {
   "cell_type": "code",
   "execution_count": 4,
   "metadata": {},
   "outputs": [],
   "source": [
    "BOARD = [[\"A\",    \"B\",  \"C\",   \"D\",    \"E\",    \"F\",     \"G\",    \"H\"    ],\n",
    "         [\"I\",    \"J\",  \"K\",   \"L\",    \"M\",    \"N\",     \"O\",    \"P\"    ],\n",
    "         [\"Q\",    \"R\",  \"S\",   \"T\",    \"U\",    \"V\",     \"W\",    \"X\"    ],\n",
    "         [\"Y\",    \"Z\",  \"Sp\",  \"1\",    \"2\",    \"3\",     \"4\",    \"5\"    ],\n",
    "         [\"6\",    \"7\",  \"8\",   \"9\",    \"0\",    \"Prd\",   \"Ret\",  \"Bs\"   ],\n",
    "         [\"?\",    \",\",  \";\",   \"\\\\\",   \"/\",    \"+\",     \"-\",    \"Alt\"  ],\n",
    "         [\"Ctrl\", \"=\",  \"Del\", \"Home\", \"UpAw\", \"End\",   \"PgUp\", \"Shft\" ],\n",
    "         [\"Save\", \"'\",  \"F2\",  \"LfAw\", \"DnAw\", \"RtAw\",  \"PgDn\", \"Pause\"],\n",
    "         [\"Caps\", \"F5\", \"Tab\", \"EC\",   \"Esc\",  \"email\", \"!\",    \"Sleep\"]]\n",
    "BOARD  = np.array(BOARD)\n",
    "N_ROWS = BOARD.shape[0]  # number of rows\n",
    "N_COLS = BOARD.shape[1]  # number of columns\n",
    "M = N_ROWS * N_COLS      # the number of chars on the board"
   ]
  },
  {
   "cell_type": "code",
   "execution_count": 12,
   "metadata": {},
   "outputs": [],
   "source": [
    "paradigm        = 'RC' # display paradigm ('RC', 'CB', or 'RD')\n",
    "NUM_TIMESTAMPS  = 195  # number of timestamps in each window to record signals\n",
    "NUM_CHANNELS    = 32   # number of eletrode channels\n",
    "EPOCH_SIZE      = 195  # size of epoch, we don't aggregrate this time\n",
    "NUM_TRAIN_WORDS = 5    # number of training words for one participant\n",
    "NUM_TEST_WORDS  = 5    # number of testing words for one participant\n",
    "obj_indices     = ['01', '02', '03', '04', '05', '06', '07',\n",
    "                   '09', '14', '15', '16', '17', '19']\n",
    "\n",
    "train_X_list, train_Y_list, test_X_list, test_Y_list = [], [], [], []\n",
    "cwd = os.getcwd()\n",
    "for obj in obj_indices:\n",
    "    directory = os.path.abspath('../..') + '/BCI_data/EDFData-StudyA'\n",
    "    obj_directory = directory + f'/A{obj}/SE001'\n",
    "\n",
    "    train_features,train_response = load_data(dir=obj_directory,\n",
    "                                              obj=obj,\n",
    "                                              num_timestamps=NUM_TIMESTAMPS,\n",
    "                                              epoch_size=EPOCH_SIZE,\n",
    "                                              num_channels=NUM_CHANNELS,\n",
    "                                              type=paradigm,\n",
    "                                              mode='train',\n",
    "                                              num_words=NUM_TRAIN_WORDS)\n",
    "    train_X_list.append(train_features)\n",
    "    train_Y_list.append(train_response.reshape((-1, 1)))\n",
    "\n",
    "    test_features,test_response   = load_data(dir=obj_directory,\n",
    "                                              obj=obj,\n",
    "                                              num_timestamps=NUM_TIMESTAMPS,\n",
    "                                              epoch_size=EPOCH_SIZE,\n",
    "                                              num_channels=NUM_CHANNELS,\n",
    "                                              type=paradigm,\n",
    "                                              mode='test',\n",
    "                                              num_words=NUM_TEST_WORDS)\n",
    "    test_X_list.append(test_features)\n",
    "    test_Y_list.append(test_response.reshape((-1, 1)))"
   ]
  },
  {
   "cell_type": "code",
   "execution_count": 13,
   "metadata": {},
   "outputs": [],
   "source": [
    "train_X = torch.from_numpy(np.vstack(train_X_list))\n",
    "train_Y = torch.from_numpy(np.vstack(train_Y_list))\n",
    "test_X  = torch.from_numpy(np.vstack(test_X_list))\n",
    "test_Y  = torch.from_numpy(np.vstack(test_Y_list))\n",
    "\n",
    "# Resize the features and responses to fit the EEGNet model\n",
    "train_X = torch.from_numpy(np.expand_dims(train_X, axis=1)) # [55692, 1, 32, 206]\n",
    "test_X  = torch.from_numpy(np.expand_dims(test_X,  axis=1)) # [55692, 1, 32, 206]\n",
    "\n",
    "train_Y = np.squeeze(train_Y) # [55692]\n",
    "test_Y  = np.squeeze(test_Y) # [55692]"
   ]
  },
  {
   "cell_type": "code",
   "execution_count": 15,
   "metadata": {},
   "outputs": [
    {
     "name": "stdout",
     "output_type": "stream",
     "text": [
      "torch.Size([55692, 1, 32, 206]) torch.Size([55692])\n",
      "torch.Size([55692, 1, 32, 206]) torch.Size([55692])\n"
     ]
    }
   ],
   "source": [
    "print(train_X.shape, train_Y.shape)\n",
    "print(test_X.shape,  test_Y.shape)"
   ]
  },
  {
   "cell_type": "code",
   "execution_count": 21,
   "metadata": {},
   "outputs": [],
   "source": [
    "BATCH_SIZE = 32\n",
    "LR = 0.001\n",
    "EPOCHS = 1\n",
    "\n",
    "trainset, testset = TensorDataset(train_X, train_Y), TensorDataset(test_X, test_Y)\n",
    "trainloader = DataLoader(dataset=trainset, batch_size=BATCH_SIZE, shuffle=True)\n",
    "testloader  = DataLoader(dataset=testset,  batch_size=BATCH_SIZE, shuffle=False)"
   ]
  },
  {
   "cell_type": "markdown",
   "metadata": {},
   "source": [
    "## Training the EEGNet classifier"
   ]
  },
  {
   "cell_type": "code",
   "execution_count": 24,
   "metadata": {},
   "outputs": [
    {
     "name": "stdout",
     "output_type": "stream",
     "text": [
      "Epoch 1/1\n",
      "1741/1741 [>>>>>>>>>>>>>>>>>>>>>>>>>>>>>>]"
     ]
    },
    {
     "data": {
      "image/png": "[encoded data removed]",
      "text/plain": [
       "<Figure size 1000x400 with 2 Axes>"
      ]
     },
     "metadata": {},
     "output_type": "display_data"
    }
   ],
   "source": [
    "eegnet = EEGNet().to(device)\n",
    "model = Model(eegnet, lr=LR)\n",
    "history = model.fit(trainloader=trainloader, validloader=testloader,\n",
    "                    epochs=EPOCHS, monitor=[\"acc\", \"val_acc\"])\n",
    "plot_acc_and_loss(history=history)"
   ]
  },
  {
   "cell_type": "code",
   "execution_count": 25,
   "metadata": {},
   "outputs": [
    {
     "data": {
      "text/plain": [
       "{'loss': array([0.20812429]),\n",
       " 'acc': array([0.86949652]),\n",
       " 'val_loss': array([0.35603786]),\n",
       " 'val_acc': array([0.86976586])}"
      ]
     },
     "execution_count": 25,
     "metadata": {},
     "output_type": "execute_result"
    }
   ],
   "source": [
    "history"
   ]
  },
  {
   "cell_type": "code",
   "execution_count": null,
   "metadata": {},
   "outputs": [],
   "source": []
  }
 ],
 "metadata": {
  "kernelspec": {
   "display_name": "base",
   "language": "python",
   "name": "python3"
  },
  "language_info": {
   "codemirror_mode": {
    "name": "ipython",
    "version": 3
   },
   "file_extension": ".py",
   "mimetype": "text/x-python",
   "name": "python",
   "nbconvert_exporter": "python",
   "pygments_lexer": "ipython3",
   "version": "3.11.5"
  }
 },
 "nbformat": 4,
 "nbformat_minor": 2
}
