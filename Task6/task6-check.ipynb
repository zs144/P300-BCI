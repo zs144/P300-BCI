{
 "cells": [
  {
   "cell_type": "code",
   "execution_count": 23,
   "metadata": {},
   "outputs": [
    {
     "name": "stdout",
     "output_type": "stream",
     "text": [
      "The autoreload extension is already loaded. To reload it, use:\n",
      "  %reload_ext autoreload\n"
     ]
    },
    {
     "name": "stderr",
     "output_type": "stream",
     "text": [
      "[nltk_data] Downloading package cmudict to\n",
      "[nltk_data]     /Users/zionshane/nltk_data...\n",
      "[nltk_data]   Package cmudict is already up-to-date!\n"
     ]
    }
   ],
   "source": [
    "# Python standard libraries\n",
    "import math\n",
    "import random\n",
    "import os\n",
    "\n",
    "# Packages for language model\n",
    "import nltk\n",
    "nltk.download('cmudict')\n",
    "from nltk.corpus import cmudict\n",
    "\n",
    "# Packages for computation and modelling\n",
    "import numpy as np\n",
    "import pandas as pd\n",
    "import scipy.stats as stats\n",
    "from scipy.stats import norm\n",
    "import mne\n",
    "import pickle\n",
    "\n",
    "# Packages for visualization\n",
    "import matplotlib.pyplot as plt\n",
    "import seaborn as sns\n",
    "\n",
    "# Self-defined packages\n",
    "from swlda import SWLDA\n",
    "from utils import *\n",
    "\n",
    "# Magic command to reload packages whenever we run any later cells\n",
    "%load_ext autoreload\n",
    "%autoreload 2"
   ]
  },
  {
   "cell_type": "code",
   "execution_count": 24,
   "metadata": {},
   "outputs": [],
   "source": [
    "BOARD = [[\"A\",    \"B\",  \"C\",   \"D\",    \"E\",    \"F\",     \"G\",    \"H\"    ],\n",
    "         [\"I\",    \"J\",  \"K\",   \"L\",    \"M\",    \"N\",     \"O\",    \"P\"    ],\n",
    "         [\"Q\",    \"R\",  \"S\",   \"T\",    \"U\",    \"V\",     \"W\",    \"X\"    ],\n",
    "         [\"Y\",    \"Z\",  \"Sp\",  \"1\",    \"2\",    \"3\",     \"4\",    \"5\"    ],\n",
    "         [\"6\",    \"7\",  \"8\",   \"9\",    \"0\",    \"Prd\",   \"Ret\",  \"Bs\"   ],\n",
    "         [\"?\",    \",\",  \";\",   \"\\\\\",   \"/\",    \"+\",     \"-\",    \"Alt\"  ],\n",
    "         [\"Ctrl\", \"=\",  \"Del\", \"Home\", \"UpAw\", \"End\",   \"PgUp\", \"Shft\" ],\n",
    "         [\"Save\", \"'\",  \"F2\",  \"LfAw\", \"DnAw\", \"RtAw\",  \"PgDn\", \"Pause\"],\n",
    "         [\"Caps\", \"F5\", \"Tab\", \"EC\",   \"Esc\",  \"email\", \"!\",    \"Sleep\"]]\n",
    "BOARD  = np.array(BOARD)\n",
    "N_ROWS = BOARD.shape[0]  # number of rows\n",
    "N_COLS = BOARD.shape[1]  # number of columns\n",
    "M = N_ROWS * N_COLS      # the number of chars on the board"
   ]
  },
  {
   "cell_type": "code",
   "execution_count": 25,
   "metadata": {},
   "outputs": [],
   "source": [
    "paradigm       = 'RC'  # display paradigm ('RC', 'CB', or 'RD')\n",
    "NUM_TIMESTAMPS = 195   # number of timestamps in each window to record signals\n",
    "EPOCH_SIZE     = 15    # required number of features in every epoch\n",
    "CORE_CHANNELS = ('EEG_Fz', 'EEG_Cz',  'EEG_P3',  'EEG_Pz',\n",
    "                 'EEG_P4', 'EEG_PO7', 'EEG_PO8', 'EEG_Oz')\n",
    "NUM_CORE_CHANNELS  = len(CORE_CHANNELS)  # number of core eletrodes\n",
    "NUM_SEQ = 10        # max number of sequences (all rows and cols are flashed)\n",
    "T_MAX = (N_ROWS + N_COLS) * NUM_SEQ # max number of flashes"
   ]
  },
  {
   "cell_type": "code",
   "execution_count": 26,
   "metadata": {},
   "outputs": [],
   "source": [
    "f = open(f'./model/D02-model.pkl', 'rb')\n",
    "clf = pickle.load(f)"
   ]
  },
  {
   "cell_type": "code",
   "execution_count": 44,
   "metadata": {},
   "outputs": [],
   "source": [
    "obj = '02'\n",
    "run = '01'"
   ]
  },
  {
   "cell_type": "code",
   "execution_count": 45,
   "metadata": {},
   "outputs": [],
   "source": [
    "directory = '/Users/zionshane/Desktop/Duke/Research/BCI_data/EDFData-StudyD'\n",
    "obj_directory = directory + f'/D{obj}/SE001'\n",
    "test_file = obj_directory+f'/Test/Dyn/D{obj}_SE001Dyn_Test{run}.edf'\n",
    "raw_data = mne.io.read_raw_edf(test_file, preload=True, verbose=False)\n",
    "\n",
    "stim_events = mne.find_events(raw=raw_data,\n",
    "                              stim_channel='StimulusBegin',\n",
    "                              verbose=False)\n",
    "eeg_channels = mne.pick_channels_regexp(raw_data.info['ch_names'], 'EEG')\n",
    "raw_data.notch_filter(freqs=60, picks=eeg_channels, verbose=False)\n",
    "test_epochs = get_core_epochs(raw_data)"
   ]
  },
  {
   "cell_type": "code",
   "execution_count": 46,
   "metadata": {},
   "outputs": [
    {
     "name": "stdout",
     "output_type": "stream",
     "text": [
      "Participant #02 wants to type \"PIECES\" in test #01.\n"
     ]
    }
   ],
   "source": [
    "current_target_events = mne.find_events(raw_data, stim_channel='CurrentTarget',\n",
    "                                        verbose=False)\n",
    "current_target_appears = current_target_events[:,0]\n",
    "current_target = current_target_events[:,2]\n",
    "truth = eventIDs_to_sequence(BOARD, current_target)\n",
    "str_truth = ''.join(truth)\n",
    "print(f'Participant #{obj} wants to type \"{str_truth}\" in test #{run}.')"
   ]
  },
  {
   "cell_type": "code",
   "execution_count": 47,
   "metadata": {},
   "outputs": [
    {
     "name": "stdout",
     "output_type": "stream",
     "text": [
      "Participant #02 typed \"PauseQ0CEC\" in test #01.\n"
     ]
    }
   ],
   "source": [
    "selected_target_events = mne.find_events(raw_data, stim_channel='SelectedTarget',\n",
    "                                        verbose=False)\n",
    "selected_target_appears = selected_target_events[:,0]\n",
    "selected_target = selected_target_events[:,2]\n",
    "selected = eventIDs_to_sequence(BOARD, selected_target)\n",
    "str_selected = ''.join(selected)\n",
    "print(f'Participant #{obj} typed \"{str_selected}\" in test #{run}.')"
   ]
  },
  {
   "cell_type": "code",
   "execution_count": null,
   "metadata": {},
   "outputs": [],
   "source": []
  }
 ],
 "metadata": {
  "kernelspec": {
   "display_name": "base",
   "language": "python",
   "name": "python3"
  },
  "language_info": {
   "codemirror_mode": {
    "name": "ipython",
    "version": 3
   },
   "file_extension": ".py",
   "mimetype": "text/x-python",
   "name": "python",
   "nbconvert_exporter": "python",
   "pygments_lexer": "ipython3",
   "version": "3.10.8"
  }
 },
 "nbformat": 4,
 "nbformat_minor": 2
}
