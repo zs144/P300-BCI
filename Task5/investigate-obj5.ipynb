{
 "cells": [
  {
   "cell_type": "code",
   "execution_count": 1,
   "metadata": {},
   "outputs": [],
   "source": [
    "# Python standard libraries\n",
    "import math\n",
    "\n",
    "# Packages for computation and modelling\n",
    "import numpy as np\n",
    "import pandas as pd\n",
    "import scipy.stats as stats\n",
    "from scipy.stats import norm\n",
    "import mne\n",
    "import pickle\n",
    "\n",
    "# Packages for visualization\n",
    "import matplotlib.pyplot as plt\n",
    "import seaborn as sns\n",
    "\n",
    "# Self-defined packages\n",
    "from swlda import SWLDA\n",
    "import utils\n",
    "\n",
    "# Magic command to reload packages whenever we run any later cells\n",
    "%load_ext autoreload\n",
    "%autoreload 2"
   ]
  },
  {
   "cell_type": "code",
   "execution_count": 2,
   "metadata": {},
   "outputs": [],
   "source": [
    "BOARD = [[\"A\",    \"B\",  \"C\",   \"D\",    \"E\",    \"F\",     \"G\",    \"H\"    ],\n",
    "         [\"I\",    \"J\",  \"K\",   \"L\",    \"M\",    \"N\",     \"O\",    \"P\"    ],\n",
    "         [\"Q\",    \"R\",  \"S\",   \"T\",    \"U\",    \"V\",     \"W\",    \"X\"    ],\n",
    "         [\"Y\",    \"Z\",  \"Sp\",  \"1\",    \"2\",    \"3\",     \"4\",    \"5\"    ],\n",
    "         [\"6\",    \"7\",  \"8\",   \"9\",    \"0\",    \"Prd\",   \"Ret\",  \"Bs\"   ],\n",
    "         [\"?\",    \",\",  \";\",   \"\\\\\",   \"/\",    \"+\",     \"-\",    \"Alt\"  ],\n",
    "         [\"Ctrl\", \"=\",  \"Del\", \"Home\", \"UpAw\", \"End\",   \"PgUp\", \"Shft\" ],\n",
    "         [\"Save\", \"'\",  \"F2\",  \"LfAw\", \"DnAw\", \"RtAw\",  \"PgDn\", \"Pause\"],\n",
    "         [\"Caps\", \"F5\", \"Tab\", \"EC\",   \"Esc\",  \"email\", \"!\",    \"Sleep\"]]\n",
    "BOARD  = np.array(BOARD)\n",
    "N_ROWS = BOARD.shape[0]  # number of rows\n",
    "N_COLS = BOARD.shape[1]  # number of columns\n",
    "M = N_ROWS * N_COLS      # the number of chars on the board"
   ]
  },
  {
   "cell_type": "code",
   "execution_count": 3,
   "metadata": {},
   "outputs": [],
   "source": [
    "paradigm       = 'RC'  # display paradigm ('RC', 'CB', or 'RD')\n",
    "NUM_TIMESTAMPS = 195   # number of timestamps in each window to record signals\n",
    "EPOCH_SIZE     = 15    # required number of features in every epoch\n",
    "CORE_CHANNELS  = ('EEG_Fz', 'EEG_Cz',  'EEG_P3',  'EEG_Pz',\n",
    "                  'EEG_P4', 'EEG_PO7', 'EEG_PO8', 'EEG_Oz')\n",
    "NUM_CORE_CHANNELS  = len(CORE_CHANNELS)  # number of core eletrodes\n",
    "NUM_TRAIN_WORDS = 5 # number of training words for one participant\n",
    "NUM_TEST_WORDS  = 5 # number of testing words for one participant\n",
    "\n",
    "obj = 5 # the index of experiment object (participant)\n",
    "obj = str(obj) if obj >= 10 else '0'+str(obj)\n",
    "directory = '/Users/zionshane/Desktop/Duke/Research/BCI_data/EDFData-StudyA'\n",
    "obj_directory = directory + f'/A{obj}/SE001'"
   ]
  },
  {
   "cell_type": "code",
   "execution_count": 5,
   "metadata": {},
   "outputs": [],
   "source": [
    "with open(f'./model/A05-model.pkl', 'rb') as f:\n",
    "    clf = pickle.load(f)"
   ]
  },
  {
   "cell_type": "code",
   "execution_count": 13,
   "metadata": {},
   "outputs": [],
   "source": [
    "def count_num_same(list_1, list_2):\n",
    "    if (len(list_1) != len(list_2)):\n",
    "        raise ValueError('The two input lists should have the same length!')\n",
    "    num_same = 0\n",
    "    for i in range(len(list_1)):\n",
    "        if (list_1[i] == list_2[i]):\n",
    "            num_same += 1\n",
    "\n",
    "    return num_same"
   ]
  },
  {
   "cell_type": "code",
   "execution_count": 15,
   "metadata": {},
   "outputs": [
    {
     "name": "stdout",
     "output_type": "stream",
     "text": [
      "In test #06, Participant #05 wants to type \"DRIVING\".\n",
      "The speller ends up with \"DJ6VING\".\n",
      "5 out of 7 selection is correct.\n",
      "In test #07, Participant #05 wants to type \"QUICKLY\".\n",
      "The speller ends up with \"YUICJLY\".\n",
      "5 out of 7 selection is correct.\n",
      "In test #08, Participant #05 wants to type \"TOWARDS\".\n",
      "The speller ends up with \"TOWARDS\".\n",
      "7 out of 7 selection is correct.\n",
      "In test #09, Participant #05 wants to type \"DAYLIGHT\".\n",
      "The speller ends up with \"DQYKIOG\\\".\n",
      "3 out of 8 selection is correct.\n",
      "In test #10, Participant #05 wants to type \"5149736\".\n",
      "The speller ends up with \"51Ret9,PrdCtrl\".\n",
      "3 out of 7 selection is correct.\n"
     ]
    }
   ],
   "source": [
    "test_file_indices = [6, 7, 8, 9, 10]\n",
    "for file_index in test_file_indices:\n",
    "    file_index = str(file_index) if file_index >= 10 else '0'+str(file_index)\n",
    "    test_file = directory+f'/A05/SE001/Test/RC/A05_SE001RC_Test{file_index}.edf'\n",
    "    raw_data = mne.io.read_raw_edf(test_file, preload=True, verbose=False)\n",
    "\n",
    "    stim_events = mne.find_events(raw=raw_data,\n",
    "                                stim_channel='StimulusBegin',\n",
    "                                verbose=False)\n",
    "    eeg_channels = mne.pick_channels_regexp(raw_data.info['ch_names'], 'EEG')\n",
    "    raw_data.notch_filter(freqs=60, picks=eeg_channels, verbose=False)\n",
    "    test_epochs = utils.get_core_epochs(raw_data)\n",
    "\n",
    "    current_target_events = mne.find_events(raw_data, stim_channel='CurrentTarget',\n",
    "                                            verbose=False)\n",
    "    current_target = current_target_events[:,2]\n",
    "    truth = utils.eventIDs_to_sequence(BOARD, current_target)\n",
    "    str_truth = ''.join(truth)\n",
    "    print(f'In test #{file_index}, Participant #{obj} wants to type \"{str_truth}\".')\n",
    "\n",
    "    selected_target_events = mne.find_events(raw_data, stim_channel='SelectedTarget',\n",
    "                                             verbose=False)\n",
    "    selected_target = selected_target_events[:,2]\n",
    "    selection = utils.eventIDs_to_sequence(BOARD, selected_target)\n",
    "    str_selection = ''.join(selection)\n",
    "    print(f'The speller ends up with \"{str_selection}\".')\n",
    "\n",
    "    num_correct = count_num_same(truth, selection)\n",
    "    print(f'{num_correct} out of {len(truth)} selection is correct.')"
   ]
  },
  {
   "cell_type": "markdown",
   "metadata": {},
   "source": [
    "<div style=\"text-align:justify; width: 97%\">\n",
    "\n",
    "The overall accuracy of Participant #5 is $64\\%$. By printing out each word the participant types, we can see that the first three words are actually very accurate whereas the last two words are far from the expectation given that the participant's classifier has a pretty good performance (AUC = $0.82$). The last two severely drag down the average accuracy. However, since the first three are accurate, I tend to believe the lower accuracy in the 4th and 5th word is just caused by randomness.\n",
    "\n",
    "</div>"
   ]
  },
  {
   "cell_type": "markdown",
   "metadata": {},
   "source": []
  }
 ],
 "metadata": {
  "kernelspec": {
   "display_name": "base",
   "language": "python",
   "name": "python3"
  },
  "language_info": {
   "codemirror_mode": {
    "name": "ipython",
    "version": 3
   },
   "file_extension": ".py",
   "mimetype": "text/x-python",
   "name": "python",
   "nbconvert_exporter": "python",
   "pygments_lexer": "ipython3",
   "version": "3.10.8"
  }
 },
 "nbformat": 4,
 "nbformat_minor": 2
}
