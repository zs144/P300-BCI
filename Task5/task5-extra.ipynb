{
 "cells": [
  {
   "cell_type": "code",
   "execution_count": 2,
   "metadata": {},
   "outputs": [],
   "source": [
    "# Python standard libraries\n",
    "import math\n",
    "\n",
    "# Packages for computation and modelling\n",
    "import numpy as np\n",
    "import pandas as pd\n",
    "import scipy.stats as stats\n",
    "from scipy.stats import norm\n",
    "import mne\n",
    "import pickle\n",
    "\n",
    "# Packages for visualization\n",
    "import matplotlib.pyplot as plt\n",
    "import seaborn as sns\n",
    "\n",
    "# Self-defined packages\n",
    "from swlda import SWLDA\n",
    "from utils import *\n",
    "\n",
    "# Magic command to reload packages whenever we run any later cells\n",
    "%load_ext autoreload\n",
    "%autoreload 2"
   ]
  },
  {
   "cell_type": "code",
   "execution_count": 3,
   "metadata": {},
   "outputs": [],
   "source": [
    "BOARD = [[\"A\",    \"B\",  \"C\",   \"D\",    \"E\",    \"F\",     \"G\",    \"H\"    ],\n",
    "         [\"I\",    \"J\",  \"K\",   \"L\",    \"M\",    \"N\",     \"O\",    \"P\"    ],\n",
    "         [\"Q\",    \"R\",  \"S\",   \"T\",    \"U\",    \"V\",     \"W\",    \"X\"    ],\n",
    "         [\"Y\",    \"Z\",  \"Sp\",  \"1\",    \"2\",    \"3\",     \"4\",    \"5\"    ],\n",
    "         [\"6\",    \"7\",  \"8\",   \"9\",    \"0\",    \"Prd\",   \"Ret\",  \"Bs\"   ],\n",
    "         [\"?\",    \",\",  \";\",   \"\\\\\",   \"/\",    \"+\",     \"-\",    \"Alt\"  ],\n",
    "         [\"Ctrl\", \"=\",  \"Del\", \"Home\", \"UpAw\", \"End\",   \"PgUp\", \"Shft\" ],\n",
    "         [\"Save\", \"'\",  \"F2\",  \"LfAw\", \"DnAw\", \"RtAw\",  \"PgDn\", \"Pause\"],\n",
    "         [\"Caps\", \"F5\", \"Tab\", \"EC\",   \"Esc\",  \"email\", \"!\",    \"Sleep\"]]\n",
    "BOARD  = np.array(BOARD)\n",
    "N_ROWS = BOARD.shape[0]  # number of rows\n",
    "N_COLS = BOARD.shape[1]  # number of columns\n",
    "M = N_ROWS * N_COLS      # the number of chars on the board"
   ]
  },
  {
   "cell_type": "code",
   "execution_count": 13,
   "metadata": {},
   "outputs": [],
   "source": [
    "paradigm       = 'RC'  # display paradigm ('RC', 'CB', or 'RD')\n",
    "NUM_TIMESTAMPS = 195   # number of timestamps in each window to record signals\n",
    "EPOCH_SIZE     = 15    # required number of features in every epoch\n",
    "CORE_CHANNELS = ('EEG_Fz', 'EEG_Cz',  'EEG_P3',  'EEG_Pz',\n",
    "                 'EEG_P4', 'EEG_PO7', 'EEG_PO8', 'EEG_Oz')\n",
    "NUM_CORE_CHANNELS  = len(CORE_CHANNELS)  # number of core eletrodes\n",
    "NUM_TRAIN_WORDS = 6 # number of training sessions for one participant\n",
    "NUM_TEST_WORDS  = 6 # number of testing sessions for one participant\n",
    "\n",
    "obj = 1 # the index of experiment object (participant)\n",
    "obj = str(obj) if obj > 10 else '0'+str(obj)\n",
    "directory = '/Users/zionshane/Desktop/Duke/Research/BCI_data/EDFData-StudyA'\n",
    "obj_directory = directory + f'/A{obj}/SE001'"
   ]
  },
  {
   "cell_type": "code",
   "execution_count": 5,
   "metadata": {},
   "outputs": [],
   "source": [
    "with open(f'./model/A{obj}-model.pkl', 'rb') as f:\n",
    "    clf = pickle.load(f)"
   ]
  },
  {
   "cell_type": "code",
   "execution_count": 6,
   "metadata": {},
   "outputs": [],
   "source": [
    "train_features,train_response = load_data(dir=obj_directory,\n",
    "                                          obj=obj,\n",
    "                                          num_timestamps=NUM_TIMESTAMPS,\n",
    "                                          epoch_size=EPOCH_SIZE,\n",
    "                                          num_channels=NUM_CORE_CHANNELS,\n",
    "                                          type=paradigm,\n",
    "                                          mode='train',\n",
    "                                          num_trials=NUM_TRAIN_WORDS)"
   ]
  },
  {
   "cell_type": "code",
   "execution_count": 7,
   "metadata": {},
   "outputs": [],
   "source": [
    "scores = pd.DataFrame(clf.test(train_features), columns=['score'])\n",
    "scores['is_target'] = train_response.astype('int')\n",
    "mu_1, std_1 = norm.fit(data=scores.loc[scores['is_target'] == 1]['score'])\n",
    "mu_0, std_0 = norm.fit(data=scores.loc[scores['is_target'] == 0]['score'])\n",
    "var_1 = std_1**2\n",
    "var_0 = std_0**2"
   ]
  },
  {
   "cell_type": "code",
   "execution_count": 16,
   "metadata": {},
   "outputs": [],
   "source": [
    "test_file_indices = ['06', '07', '08', '09', '10']\n",
    "participant_perform = []\n",
    "\n",
    "for file_index in test_file_indices:\n",
    "    test_file = directory + ('/A%s/SE001/Test/%s/A%s_SE001%s_Test%s.edf'\n",
    "                % (obj, paradigm, obj, paradigm, file_index))\n",
    "    raw_data = mne.io.read_raw_edf(test_file, preload=True, verbose=False)\n",
    "\n",
    "    stim_events = mne.find_events(raw=raw_data,\n",
    "                                  stim_channel='StimulusBegin',\n",
    "                                  verbose=False)\n",
    "    eeg_channels = mne.pick_channels_regexp(raw_data.info['ch_names'], 'EEG')\n",
    "    raw_data.notch_filter(freqs=60, picks=eeg_channels, verbose=False)\n",
    "    test_epochs = get_core_epochs(raw_data)\n",
    "\n",
    "    current_target_events=mne.find_events(raw_data, stim_channel='CurrentTarget',\n",
    "                                          verbose=False)\n",
    "    current_target = current_target_events[:,2]\n",
    "    truth = eventIDs_to_strings(BOARD, current_target)\n",
    "\n",
    "    phases_events = mne.find_events(raw_data, stim_channel='PhaseInSequence',\n",
    "                                    verbose=False)\n",
    "    phases_appears = phases_events[:,0]\n",
    "    during_trail_phases = []\n",
    "    for i in range(1, len(phases_appears), 2):\n",
    "        start = phases_appears[i]\n",
    "        end = phases_appears[i+1]\n",
    "        during_trail_phases.append((start, end))\n",
    "\n",
    "    test_features, test_response = split_data(test_epochs,\n",
    "                                              n_channels=NUM_CORE_CHANNELS,\n",
    "                                              n_times=NUM_TIMESTAMPS,\n",
    "                                              n_samples=EPOCH_SIZE)\n",
    "    stim_begin_events=mne.find_events(raw=raw_data, stim_channel='StimulusBegin',\n",
    "                                      verbose=False)\n",
    "    stim_begin_time = stim_begin_events[:,0]\n",
    "\n",
    "    flashing_schedule = get_flashing_schedule(BOARD, raw_data, stim_begin_time)\n",
    "\n",
    "    clf_scores = clf.test(data=test_features)\n",
    "\n",
    "    NUM_SEQ = 7\n",
    "    T_MAX = (N_ROWS + N_COLS) * NUM_SEQ # maximum number of flashes in a trial\n",
    "    ACTUAL_T_MAX = int(len(stim_begin_time)/len(truth))\n",
    "    P_threshold = 0.9\n",
    "\n",
    "    trail_perform = {'truth':list(truth), 'select':[], 'times':[]}\n",
    "\n",
    "    for trail in range(len(during_trail_phases)):\n",
    "        P_all = np.ones(shape=(N_ROWS, N_COLS)) * (1/M) # Initialize probs\n",
    "        num_flashes = 0\n",
    "        target_index = current_target[trail]\n",
    "        target_loc = ((target_index-1) // N_COLS, (target_index-1) % N_COLS)\n",
    "        start, end = during_trail_phases[trail]\n",
    "        time = start\n",
    "        k = 0\n",
    "\n",
    "        while time <= end:\n",
    "            num_flashes += 1\n",
    "            flashed = flashing_schedule[time]\n",
    "            # Generate the classifier score\n",
    "            y = clf_scores[trail*ACTUAL_T_MAX + k]\n",
    "            # Update probabilities\n",
    "            for i in range(N_ROWS):\n",
    "                for j in range(N_COLS):\n",
    "                    ch_index = N_COLS * i + j + 1\n",
    "                    if (ch_index in flashed):\n",
    "                        likelihood = stats.norm.pdf(x=y, loc=mu_1, scale=std_1)\n",
    "                    else:\n",
    "                        likelihood = stats.norm.pdf(x=y, loc=mu_0, scale=std_0)\n",
    "                    P_all[i, j] = P_all[i, j] * likelihood\n",
    "            # Normalize P_all\n",
    "            P_all = P_all / P_all.sum()\n",
    "            # Check if can stop\n",
    "            if P_all.max() >= P_threshold:\n",
    "                break\n",
    "            else:\n",
    "                k += 1\n",
    "                time = stim_begin_time[trail*ACTUAL_T_MAX + k]\n",
    "\n",
    "        max_loc = np.unravel_index(P_all.argmax(), P_all.shape)\n",
    "        trail_perform['select'].append(BOARD[max_loc])\n",
    "        trail_perform['times'].append(num_flashes)\n",
    "\n",
    "    participant_perform.append(trail_perform)"
   ]
  },
  {
   "cell_type": "code",
   "execution_count": 17,
   "metadata": {},
   "outputs": [
    {
     "data": {
      "text/plain": [
       "[{'truth': ['D', 'R', 'I', 'V', 'I', 'N', 'G'],\n",
       "  'select': ['D', 'V', 'I', 'Q', 'I', 'J', 'C'],\n",
       "  'times': [38, 70, 30, 80, 54, 28, 61]},\n",
       " {'truth': ['Q', 'U', 'I', 'C', 'K', 'L', 'Y'],\n",
       "  'select': ['R', '3', 'I', 'E', 'J', 'EC', 'Y'],\n",
       "  'times': [45, 29, 61, 30, 79, 84, 38]},\n",
       " {'truth': ['T', 'O', 'W', 'A', 'R', 'D', 'S'],\n",
       "  'select': ['T', 'O', 'X', 'A', 'R', 'D', 'S'],\n",
       "  'times': [21, 76, 119, 27, 50, 43, 37]},\n",
       " {'truth': ['D', 'A', 'Y', 'L', 'I', 'G', 'H', 'T'],\n",
       "  'select': ['J', 'I', 'PgUp', 'L', 'I', 'PgDn', 'H', 'T'],\n",
       "  'times': [64, 18, 14, 39, 12, 33, 69, 36]},\n",
       " {'truth': ['5', '1', '4', '9', '7', '3', '6'],\n",
       "  'select': ['5', '1', '3', '9', '7', 'L', '6'],\n",
       "  'times': [83, 35, 63, 23, 20, 57, 42]}]"
      ]
     },
     "execution_count": 17,
     "metadata": {},
     "output_type": "execute_result"
    }
   ],
   "source": [
    "participant_perform"
   ]
  },
  {
   "cell_type": "code",
   "execution_count": null,
   "metadata": {},
   "outputs": [],
   "source": []
  }
 ],
 "metadata": {
  "kernelspec": {
   "display_name": "base",
   "language": "python",
   "name": "python3"
  },
  "language_info": {
   "codemirror_mode": {
    "name": "ipython",
    "version": 3
   },
   "file_extension": ".py",
   "mimetype": "text/x-python",
   "name": "python",
   "nbconvert_exporter": "python",
   "pygments_lexer": "ipython3",
   "version": "3.10.8"
  }
 },
 "nbformat": 4,
 "nbformat_minor": 2
}
